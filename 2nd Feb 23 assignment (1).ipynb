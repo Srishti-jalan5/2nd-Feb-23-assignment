{
 "cells": [
  {
   "cell_type": "code",
   "execution_count": 4,
   "id": "7c7f4a0e-d136-4564-ad77-85fc597dc80f",
   "metadata": {},
   "outputs": [
    {
     "name": "stdout",
     "output_type": "stream",
     "text": [
      "b is greater\n",
      "b is greater\n",
      "b is greater\n",
      "b is greater\n",
      "b is greater\n",
      "b is greater\n",
      "b is greater\n",
      "b is greater\n",
      "b is greater\n",
      "b is greater\n",
      "b is greater\n"
     ]
    }
   ],
   "source": [
    "##Q1 We use while loop when we want to end loop in a condition.\n",
    "#Example1\n",
    "\n",
    "a=10\n",
    "b=20\n",
    "\n",
    "while a <= b:\n",
    "    print(\"b is greater\")\n",
    "    a=a+1"
   ]
  },
  {
   "cell_type": "code",
   "execution_count": 5,
   "id": "a738ca4c-8e69-48ba-a16e-59add9d4dad6",
   "metadata": {},
   "outputs": [
    {
     "name": "stdout",
     "output_type": "stream",
     "text": [
      "b is greater\n",
      "b is greater\n",
      "b is greater\n",
      "b is greater\n",
      "b is greater\n",
      "b is greater\n",
      "b is greater\n",
      "b is greater\n",
      "b is greater\n",
      "b is greater\n"
     ]
    }
   ],
   "source": [
    "#Example2\n",
    "#For loop is used when we know the number of iterations.\n",
    "a=10\n",
    "b=20\n",
    "\n",
    "for i in range(10):\n",
    "    if(a<b):\n",
    "        print(\"b is greater\")"
   ]
  },
  {
   "cell_type": "code",
   "execution_count": 9,
   "id": "33940116-f896-49c1-8145-ea8de6308544",
   "metadata": {},
   "outputs": [
    {
     "name": "stdout",
     "output_type": "stream",
     "text": [
      "55\n",
      "3628800\n"
     ]
    }
   ],
   "source": [
    "#Q2 using for loop\n",
    "sum=0\n",
    "product=1\n",
    "for i in range(1,11):\n",
    "    sum = sum + i\n",
    "    product = product * i\n",
    "\n",
    "print(sum)\n",
    "print(product)"
   ]
  },
  {
   "cell_type": "code",
   "execution_count": 1,
   "id": "0e075681-249b-44da-aecc-c9a3d5baee60",
   "metadata": {},
   "outputs": [
    {
     "name": "stdout",
     "output_type": "stream",
     "text": [
      "55\n",
      "3628800\n"
     ]
    }
   ],
   "source": [
    "#using while loop\n",
    "\n",
    "i=1\n",
    "sum=0\n",
    "product = 1\n",
    "\n",
    "while i <= 10:\n",
    "    sum= sum + i\n",
    "    product= product * i\n",
    "    i=i+1\n",
    "\n",
    "print(sum)\n",
    "print(product)\n"
   ]
  },
  {
   "cell_type": "code",
   "execution_count": 3,
   "id": "47c21b3a-f9cc-4d23-b5a7-6dd1f0e24e9c",
   "metadata": {},
   "outputs": [
    {
     "name": "stdout",
     "output_type": "stream",
     "text": [
      "Number of vowels in string is:  12\n"
     ]
    }
   ],
   "source": [
    "#Q5\n",
    "\n",
    "string = \"I want to become a data scientist\"\n",
    "count=0\n",
    "for i in string:\n",
    "    if(i=='a' or i=='i' or i=='e' or i=='o' or i=='u' or i=='I' or i=='A' or i=='E' or i=='O' or i=='U'):\n",
    "        count=count+1\n",
    "\n",
    "print(\"Number of vowels in string is: \", count)"
   ]
  },
  {
   "cell_type": "code",
   "execution_count": 3,
   "id": "f7f14c00-a6ce-4e7f-b8a1-519e8d26d680",
   "metadata": {},
   "outputs": [
    {
     "name": "stdout",
     "output_type": "stream",
     "text": [
      "original list \n",
      " [1, 2, 3, 4, 5, 6, 7, 8, 9, 10, 11, 12, 13, 14, 15, 16, 17, 18, 19, 20, 21, 22, 23, 24, 25, 26, 27, 28, 29, 30, 31, 32, 33, 34, 35, 36, 37, 38, 39, 40, 41, 42, 43, 44, 45, 46, 47, 48, 49, 50, 51, 52, 53, 54, 55, 56, 57, 58, 59, 60, 61, 62, 63, 64, 65, 66, 67, 68, 69, 70, 71, 72, 73, 74, 75, 76, 77, 78, 79, 80, 81, 82, 83, 84, 85, 86, 87, 88, 89, 90, 91, 92, 93, 94, 95, 96, 97, 98, 99, 100]\n",
      "\n",
      "\n",
      "Cube of each number in a list is \n",
      " [1, 8, 27, 64, 125, 216, 343, 512, 729, 1000, 1331, 1728, 2197, 2744, 3375, 4096, 4913, 5832, 6859, 8000, 9261, 10648, 12167, 13824, 15625, 17576, 19683, 21952, 24389, 27000, 29791, 32768, 35937, 39304, 42875, 46656, 50653, 54872, 59319, 64000, 68921, 74088, 79507, 85184, 91125, 97336, 103823, 110592, 117649, 125000, 132651, 140608, 148877, 157464, 166375, 175616, 185193, 195112, 205379, 216000, 226981, 238328, 250047, 262144, 274625, 287496, 300763, 314432, 328509, 343000, 357911, 373248, 389017, 405224, 421875, 438976, 456533, 474552, 493039, 512000, 531441, 551368, 571787, 592704, 614125, 636056, 658503, 681472, 704969, 729000, 753571, 778688, 804357, 830584, 857375, 884736, 912673, 941192, 970299, 1000000]\n",
      "\n",
      " \n",
      "Cube of number divisible by 4 or 5 is \n",
      "\n",
      " [2, 4, 5, 6, 8, 10, 12, 14, 15, 16, 18, 20, 22, 24, 25, 26, 28, 30, 32, 34, 35, 36, 38, 40, 42, 44, 45, 46, 48, 50, 52, 54, 55, 56, 58, 60, 62, 64, 65, 66, 68, 70, 72, 74, 75, 76, 78, 80, 82, 84, 85, 86, 88, 90, 92, 94, 95, 96, 98, 100]\n"
     ]
    }
   ],
   "source": [
    "# Q4\n",
    "list_num =[]\n",
    "list_cube=[]\n",
    "final_list=[]\n",
    "for i in range(1,101):\n",
    "    list_num.append(i)\n",
    "    list_cube.append(i**3)\n",
    "    \n",
    "    if(i**3 % 4 == 0 or i**3 % 5 == 0):\n",
    "        final_list.append(i)\n",
    "        \n",
    "print(\"original list \\n\",list_num)\n",
    "print(\"\\n\\nCube of each number in a list is \\n\",list_cube)\n",
    "print(\"\\n \\nCube of number divisible by 4 or 5 is \\n\\n\",final_list)\n",
    "    "
   ]
  },
  {
   "cell_type": "code",
   "execution_count": 14,
   "id": "2689c579-e144-4a56-80a1-3be3b67523f5",
   "metadata": {},
   "outputs": [
    {
     "name": "stdin",
     "output_type": "stream",
     "text": [
      "Enter the units of electricity consumed:  310\n"
     ]
    },
    {
     "name": "stdout",
     "output_type": "stream",
     "text": [
      "The electricity bill of 310  units household is  3955.0\n"
     ]
    }
   ],
   "source": [
    "#Q3\n",
    "units=int(input(\"Enter the units of electricity consumed: \"))\n",
    "bills=0\n",
    "if(units <= 100):\n",
    "          bills=units*4.5\n",
    "elif(units <= 200 and units > 100):\n",
    "          bills=100*4.5 + (units-100)*6\n",
    "elif(units <= 300 and units > 200):\n",
    "          bills=100*4.5 + 100*6 + (units-200)*10\n",
    "elif(units > 300) :\n",
    "          bills=units*4.5 + (units-100)*6 + (units-200)*10 + (units-300)*20\n",
    "          \n",
    "print(f\"The electricity bill of\",units,\" units household is \",bills)\n",
    "          "
   ]
  }
 ],
 "metadata": {
  "kernelspec": {
   "display_name": "Python 3 (ipykernel)",
   "language": "python",
   "name": "python3"
  },
  "language_info": {
   "codemirror_mode": {
    "name": "ipython",
    "version": 3
   },
   "file_extension": ".py",
   "mimetype": "text/x-python",
   "name": "python",
   "nbconvert_exporter": "python",
   "pygments_lexer": "ipython3",
   "version": "3.10.8"
  }
 },
 "nbformat": 4,
 "nbformat_minor": 5
}
